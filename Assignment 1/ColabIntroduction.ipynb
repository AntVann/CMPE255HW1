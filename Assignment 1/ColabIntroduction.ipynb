{
  "nbformat": 4,
  "nbformat_minor": 0,
  "metadata": {
    "colab": {
      "provenance": [],
      "toc_visible": true
    },
    "kernelspec": {
      "name": "python3",
      "display_name": "Python 3"
    },
    "language_info": {
      "name": "python"
    }
  },
  "cells": [
    {
      "cell_type": "markdown",
      "source": [
        "# Import libraries\n",
        "\n",
        "Here, we ***import*** the necessary **libraries** used in this *notebook*.\n",
        "\n",
        "Procedures:\n",
        "\n",
        "  1.   List item\n",
        "  2.   List item\n",
        "\n",
        "Steps:\n",
        "\n",
        " *   List item\n",
        " *   List item\n",
        "\n",
        "\n",
        "\n"
      ],
      "metadata": {
        "id": "6lyTm63m5Px-"
      }
    },
    {
      "cell_type": "code",
      "execution_count": null,
      "metadata": {
        "id": "s3EagqfS2FsT"
      },
      "outputs": [],
      "source": [
        "import pandas as pd\n",
        "import seaborn as sns\n",
        "import numpy as np\n",
        "from sklearn import svm\n",
        "import matplotlib as plt"
      ]
    },
    {
      "cell_type": "code",
      "source": [
        "! pip install py3dmol"
      ],
      "metadata": {
        "colab": {
          "base_uri": "https://localhost:8080/"
        },
        "id": "CH1Ofdo75npH",
        "outputId": "d074e7ab-855b-4038-bbca-036a23224d2f"
      },
      "execution_count": 8,
      "outputs": [
        {
          "output_type": "stream",
          "name": "stdout",
          "text": [
            "Collecting py3dmol\n",
            "  Downloading py3Dmol-2.4.0-py2.py3-none-any.whl.metadata (1.9 kB)\n",
            "Downloading py3Dmol-2.4.0-py2.py3-none-any.whl (7.0 kB)\n",
            "Installing collected packages: py3dmol\n",
            "Successfully installed py3dmol-2.4.0\n"
          ]
        }
      ]
    },
    {
      "cell_type": "code",
      "source": [
        "import py3Dmol\n",
        "p = py3Dmol.view(query='mmtf:1ycr')\n",
        "p.setStyle({'cartoon': {'color':'spectrum'}})"
      ],
      "metadata": {
        "colab": {
          "base_uri": "https://localhost:8080/",
          "height": 515
        },
        "id": "gJ3qdhbh50ot",
        "outputId": "24387893-a412-41ac-e5aa-0ad136cf418d"
      },
      "execution_count": 11,
      "outputs": [
        {
          "output_type": "display_data",
          "data": {
            "application/3dmoljs_load.v0": "<div id=\"3dmolviewer_1725484866563369\"  style=\"position: relative; width: 640px; height: 480px;\">\n        <p id=\"3dmolwarning_1725484866563369\" style=\"background-color:#ffcccc;color:black\">3Dmol.js failed to load for some reason.  Please check your browser console for error messages.<br></p>\n        </div>\n<script>\n\nvar loadScriptAsync = function(uri){\n  return new Promise((resolve, reject) => {\n    //this is to ignore the existence of requirejs amd\n    var savedexports, savedmodule;\n    if (typeof exports !== 'undefined') savedexports = exports;\n    else exports = {}\n    if (typeof module !== 'undefined') savedmodule = module;\n    else module = {}\n\n    var tag = document.createElement('script');\n    tag.src = uri;\n    tag.async = true;\n    tag.onload = () => {\n        exports = savedexports;\n        module = savedmodule;\n        resolve();\n    };\n  var firstScriptTag = document.getElementsByTagName('script')[0];\n  firstScriptTag.parentNode.insertBefore(tag, firstScriptTag);\n});\n};\n\nif(typeof $3Dmolpromise === 'undefined') {\n$3Dmolpromise = null;\n  $3Dmolpromise = loadScriptAsync('https://cdnjs.cloudflare.com/ajax/libs/3Dmol/2.4.0/3Dmol-min.js');\n}\n\nvar viewer_1725484866563369 = null;\nvar warn = document.getElementById(\"3dmolwarning_1725484866563369\");\nif(warn) {\n    warn.parentNode.removeChild(warn);\n}\n$3Dmolpromise.then(function() {\nviewer_1725484866563369 = $3Dmol.createViewer(document.getElementById(\"3dmolviewer_1725484866563369\"),{backgroundColor:\"white\"});\n$3Dmol.download(\"mmtf:1ycr\", viewer_1725484866563369, {}, function() {\nviewer_1725484866563369.zoomTo();\n\tviewer_1725484866563369.setStyle({\"cartoon\": {\"color\": \"spectrum\"}});\nviewer_1725484866563369.render();\n})\n});\n</script>",
            "text/html": [
              "<div id=\"3dmolviewer_1725484866563369\"  style=\"position: relative; width: 640px; height: 480px;\">\n",
              "        <p id=\"3dmolwarning_1725484866563369\" style=\"background-color:#ffcccc;color:black\">3Dmol.js failed to load for some reason.  Please check your browser console for error messages.<br></p>\n",
              "        </div>\n",
              "<script>\n",
              "\n",
              "var loadScriptAsync = function(uri){\n",
              "  return new Promise((resolve, reject) => {\n",
              "    //this is to ignore the existence of requirejs amd\n",
              "    var savedexports, savedmodule;\n",
              "    if (typeof exports !== 'undefined') savedexports = exports;\n",
              "    else exports = {}\n",
              "    if (typeof module !== 'undefined') savedmodule = module;\n",
              "    else module = {}\n",
              "\n",
              "    var tag = document.createElement('script');\n",
              "    tag.src = uri;\n",
              "    tag.async = true;\n",
              "    tag.onload = () => {\n",
              "        exports = savedexports;\n",
              "        module = savedmodule;\n",
              "        resolve();\n",
              "    };\n",
              "  var firstScriptTag = document.getElementsByTagName('script')[0];\n",
              "  firstScriptTag.parentNode.insertBefore(tag, firstScriptTag);\n",
              "});\n",
              "};\n",
              "\n",
              "if(typeof $3Dmolpromise === 'undefined') {\n",
              "$3Dmolpromise = null;\n",
              "  $3Dmolpromise = loadScriptAsync('https://cdnjs.cloudflare.com/ajax/libs/3Dmol/2.4.0/3Dmol-min.js');\n",
              "}\n",
              "\n",
              "var viewer_1725484866563369 = null;\n",
              "var warn = document.getElementById(\"3dmolwarning_1725484866563369\");\n",
              "if(warn) {\n",
              "    warn.parentNode.removeChild(warn);\n",
              "}\n",
              "$3Dmolpromise.then(function() {\n",
              "viewer_1725484866563369 = $3Dmol.createViewer(document.getElementById(\"3dmolviewer_1725484866563369\"),{backgroundColor:\"white\"});\n",
              "$3Dmol.download(\"mmtf:1ycr\", viewer_1725484866563369, {}, function() {\n",
              "viewer_1725484866563369.zoomTo();\n",
              "\tviewer_1725484866563369.setStyle({\"cartoon\": {\"color\": \"spectrum\"}});\n",
              "viewer_1725484866563369.render();\n",
              "})\n",
              "});\n",
              "</script>"
            ]
          },
          "metadata": {}
        },
        {
          "output_type": "execute_result",
          "data": {
            "text/plain": [
              "<py3Dmol.view at 0x7a518b6db6a0>"
            ]
          },
          "metadata": {},
          "execution_count": 11
        }
      ]
    },
    {
      "cell_type": "markdown",
      "source": [
        "Example text goes here. Blah blah blah"
      ],
      "metadata": {
        "id": "x-LDa_rA3NBc"
      }
    },
    {
      "cell_type": "markdown",
      "source": [
        "# Heading 1\n",
        "\n",
        "This represents the contents of heading 1."
      ],
      "metadata": {
        "id": "XcH58TjF3Skv"
      }
    },
    {
      "cell_type": "code",
      "source": [
        "a = 1"
      ],
      "metadata": {
        "id": "uxwy0Qrn3X6P"
      },
      "execution_count": 1,
      "outputs": []
    },
    {
      "cell_type": "code",
      "source": [
        "b = \"data\""
      ],
      "metadata": {
        "id": "Zg2qDQ3Y3dgE"
      },
      "execution_count": 2,
      "outputs": []
    },
    {
      "cell_type": "code",
      "source": [
        "c = [1,2,3,4,5]"
      ],
      "metadata": {
        "id": "dp0jZcv53iH8"
      },
      "execution_count": 3,
      "outputs": []
    },
    {
      "cell_type": "code",
      "source": [
        "d = ['John','Sally','Joe','Susy','Jack']"
      ],
      "metadata": {
        "id": "7YiUXm_e3k8d"
      },
      "execution_count": 4,
      "outputs": []
    },
    {
      "cell_type": "code",
      "source": [
        "for i,j in zip(c,d):\n",
        "  if i == j:\n",
        "    print(j + ' has ' + str(i) + ' car .')\n",
        "  else:\n",
        "    print(j + ' has ' + str(i) + ' cars.')\n"
      ],
      "metadata": {
        "colab": {
          "base_uri": "https://localhost:8080/"
        },
        "id": "vtggCGEG3tum",
        "outputId": "8f17daf0-3129-478c-d64e-ec6dd9587cd3"
      },
      "execution_count": 6,
      "outputs": [
        {
          "output_type": "stream",
          "name": "stdout",
          "text": [
            "John has 1 cars.\n",
            "Sally has 2 cars.\n",
            "Joe has 3 cars.\n",
            "Susy has 4 cars.\n",
            "Jack has 5 cars.\n"
          ]
        }
      ]
    },
    {
      "cell_type": "markdown",
      "source": [
        "## Heading 1.1\n",
        "Blah blah blah."
      ],
      "metadata": {
        "id": "6b40M5_r4Qzc"
      }
    },
    {
      "cell_type": "markdown",
      "source": [
        "## Heading 1.2"
      ],
      "metadata": {
        "id": "d-5A-G3h4nO7"
      }
    },
    {
      "cell_type": "code",
      "source": [
        "var1 = 2"
      ],
      "metadata": {
        "id": "k90kzFDy4Vi2"
      },
      "execution_count": 7,
      "outputs": []
    },
    {
      "cell_type": "markdown",
      "source": [
        "##Heading 1.3\n"
      ],
      "metadata": {
        "id": "kjYuIJSm4YRZ"
      }
    },
    {
      "cell_type": "markdown",
      "source": [
        "### Heading 1.3.1"
      ],
      "metadata": {
        "id": "NUmmyOMA49B_"
      }
    },
    {
      "cell_type": "markdown",
      "source": [
        "#### Heading 1.3.1.1"
      ],
      "metadata": {
        "id": "Tgr0InIi4-z8"
      }
    }
  ]
}